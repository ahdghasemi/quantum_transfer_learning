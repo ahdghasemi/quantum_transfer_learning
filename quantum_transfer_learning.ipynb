{
  "nbformat": 4,
  "nbformat_minor": 0,
  "metadata": {
    "colab": {
      "provenance": [],
      "machine_shape": "hm"
    },
    "kernelspec": {
      "name": "python3",
      "display_name": "Python 3"
    },
    "language_info": {
      "name": "python"
    },
    "accelerator": "GPU",
    "gpuClass": "premium",
    "widgets": {
      "application/vnd.jupyter.widget-state+json": {
        "399161852fb34a29938d8b45a2e650bb": {
          "model_module": "@jupyter-widgets/controls",
          "model_name": "HBoxModel",
          "model_module_version": "1.5.0",
          "state": {
            "_dom_classes": [],
            "_model_module": "@jupyter-widgets/controls",
            "_model_module_version": "1.5.0",
            "_model_name": "HBoxModel",
            "_view_count": null,
            "_view_module": "@jupyter-widgets/controls",
            "_view_module_version": "1.5.0",
            "_view_name": "HBoxView",
            "box_style": "",
            "children": [
              "IPY_MODEL_5fed0efd4d82493ea4c02ab3bc908e8e",
              "IPY_MODEL_acdf5a044c4f47b2994fa74c29f6bbea",
              "IPY_MODEL_0877e32a08a249738aa3db83351dc8b4"
            ],
            "layout": "IPY_MODEL_d833109dee604ba4bea85671b35fb6f9"
          }
        },
        "5fed0efd4d82493ea4c02ab3bc908e8e": {
          "model_module": "@jupyter-widgets/controls",
          "model_name": "HTMLModel",
          "model_module_version": "1.5.0",
          "state": {
            "_dom_classes": [],
            "_model_module": "@jupyter-widgets/controls",
            "_model_module_version": "1.5.0",
            "_model_name": "HTMLModel",
            "_view_count": null,
            "_view_module": "@jupyter-widgets/controls",
            "_view_module_version": "1.5.0",
            "_view_name": "HTMLView",
            "description": "",
            "description_tooltip": null,
            "layout": "IPY_MODEL_f9b70f408b544ba8aeba82c41daad274",
            "placeholder": "​",
            "style": "IPY_MODEL_b880a9a93a7f47ab83c6c8efd38fb556",
            "value": "100%"
          }
        },
        "acdf5a044c4f47b2994fa74c29f6bbea": {
          "model_module": "@jupyter-widgets/controls",
          "model_name": "FloatProgressModel",
          "model_module_version": "1.5.0",
          "state": {
            "_dom_classes": [],
            "_model_module": "@jupyter-widgets/controls",
            "_model_module_version": "1.5.0",
            "_model_name": "FloatProgressModel",
            "_view_count": null,
            "_view_module": "@jupyter-widgets/controls",
            "_view_module_version": "1.5.0",
            "_view_name": "ProgressView",
            "bar_style": "success",
            "description": "",
            "description_tooltip": null,
            "layout": "IPY_MODEL_35133f83aef64e75bf155315b875e6d1",
            "max": 170498071,
            "min": 0,
            "orientation": "horizontal",
            "style": "IPY_MODEL_0e3cf820dee84b45a9359b748875f74e",
            "value": 170498071
          }
        },
        "0877e32a08a249738aa3db83351dc8b4": {
          "model_module": "@jupyter-widgets/controls",
          "model_name": "HTMLModel",
          "model_module_version": "1.5.0",
          "state": {
            "_dom_classes": [],
            "_model_module": "@jupyter-widgets/controls",
            "_model_module_version": "1.5.0",
            "_model_name": "HTMLModel",
            "_view_count": null,
            "_view_module": "@jupyter-widgets/controls",
            "_view_module_version": "1.5.0",
            "_view_name": "HTMLView",
            "description": "",
            "description_tooltip": null,
            "layout": "IPY_MODEL_107047ea7176445997b612e162c57b2f",
            "placeholder": "​",
            "style": "IPY_MODEL_e0d148ac87fb490ba346629124e30447",
            "value": " 170498071/170498071 [00:01&lt;00:00, 116523336.10it/s]"
          }
        },
        "d833109dee604ba4bea85671b35fb6f9": {
          "model_module": "@jupyter-widgets/base",
          "model_name": "LayoutModel",
          "model_module_version": "1.2.0",
          "state": {
            "_model_module": "@jupyter-widgets/base",
            "_model_module_version": "1.2.0",
            "_model_name": "LayoutModel",
            "_view_count": null,
            "_view_module": "@jupyter-widgets/base",
            "_view_module_version": "1.2.0",
            "_view_name": "LayoutView",
            "align_content": null,
            "align_items": null,
            "align_self": null,
            "border": null,
            "bottom": null,
            "display": null,
            "flex": null,
            "flex_flow": null,
            "grid_area": null,
            "grid_auto_columns": null,
            "grid_auto_flow": null,
            "grid_auto_rows": null,
            "grid_column": null,
            "grid_gap": null,
            "grid_row": null,
            "grid_template_areas": null,
            "grid_template_columns": null,
            "grid_template_rows": null,
            "height": null,
            "justify_content": null,
            "justify_items": null,
            "left": null,
            "margin": null,
            "max_height": null,
            "max_width": null,
            "min_height": null,
            "min_width": null,
            "object_fit": null,
            "object_position": null,
            "order": null,
            "overflow": null,
            "overflow_x": null,
            "overflow_y": null,
            "padding": null,
            "right": null,
            "top": null,
            "visibility": null,
            "width": null
          }
        },
        "f9b70f408b544ba8aeba82c41daad274": {
          "model_module": "@jupyter-widgets/base",
          "model_name": "LayoutModel",
          "model_module_version": "1.2.0",
          "state": {
            "_model_module": "@jupyter-widgets/base",
            "_model_module_version": "1.2.0",
            "_model_name": "LayoutModel",
            "_view_count": null,
            "_view_module": "@jupyter-widgets/base",
            "_view_module_version": "1.2.0",
            "_view_name": "LayoutView",
            "align_content": null,
            "align_items": null,
            "align_self": null,
            "border": null,
            "bottom": null,
            "display": null,
            "flex": null,
            "flex_flow": null,
            "grid_area": null,
            "grid_auto_columns": null,
            "grid_auto_flow": null,
            "grid_auto_rows": null,
            "grid_column": null,
            "grid_gap": null,
            "grid_row": null,
            "grid_template_areas": null,
            "grid_template_columns": null,
            "grid_template_rows": null,
            "height": null,
            "justify_content": null,
            "justify_items": null,
            "left": null,
            "margin": null,
            "max_height": null,
            "max_width": null,
            "min_height": null,
            "min_width": null,
            "object_fit": null,
            "object_position": null,
            "order": null,
            "overflow": null,
            "overflow_x": null,
            "overflow_y": null,
            "padding": null,
            "right": null,
            "top": null,
            "visibility": null,
            "width": null
          }
        },
        "b880a9a93a7f47ab83c6c8efd38fb556": {
          "model_module": "@jupyter-widgets/controls",
          "model_name": "DescriptionStyleModel",
          "model_module_version": "1.5.0",
          "state": {
            "_model_module": "@jupyter-widgets/controls",
            "_model_module_version": "1.5.0",
            "_model_name": "DescriptionStyleModel",
            "_view_count": null,
            "_view_module": "@jupyter-widgets/base",
            "_view_module_version": "1.2.0",
            "_view_name": "StyleView",
            "description_width": ""
          }
        },
        "35133f83aef64e75bf155315b875e6d1": {
          "model_module": "@jupyter-widgets/base",
          "model_name": "LayoutModel",
          "model_module_version": "1.2.0",
          "state": {
            "_model_module": "@jupyter-widgets/base",
            "_model_module_version": "1.2.0",
            "_model_name": "LayoutModel",
            "_view_count": null,
            "_view_module": "@jupyter-widgets/base",
            "_view_module_version": "1.2.0",
            "_view_name": "LayoutView",
            "align_content": null,
            "align_items": null,
            "align_self": null,
            "border": null,
            "bottom": null,
            "display": null,
            "flex": null,
            "flex_flow": null,
            "grid_area": null,
            "grid_auto_columns": null,
            "grid_auto_flow": null,
            "grid_auto_rows": null,
            "grid_column": null,
            "grid_gap": null,
            "grid_row": null,
            "grid_template_areas": null,
            "grid_template_columns": null,
            "grid_template_rows": null,
            "height": null,
            "justify_content": null,
            "justify_items": null,
            "left": null,
            "margin": null,
            "max_height": null,
            "max_width": null,
            "min_height": null,
            "min_width": null,
            "object_fit": null,
            "object_position": null,
            "order": null,
            "overflow": null,
            "overflow_x": null,
            "overflow_y": null,
            "padding": null,
            "right": null,
            "top": null,
            "visibility": null,
            "width": null
          }
        },
        "0e3cf820dee84b45a9359b748875f74e": {
          "model_module": "@jupyter-widgets/controls",
          "model_name": "ProgressStyleModel",
          "model_module_version": "1.5.0",
          "state": {
            "_model_module": "@jupyter-widgets/controls",
            "_model_module_version": "1.5.0",
            "_model_name": "ProgressStyleModel",
            "_view_count": null,
            "_view_module": "@jupyter-widgets/base",
            "_view_module_version": "1.2.0",
            "_view_name": "StyleView",
            "bar_color": null,
            "description_width": ""
          }
        },
        "107047ea7176445997b612e162c57b2f": {
          "model_module": "@jupyter-widgets/base",
          "model_name": "LayoutModel",
          "model_module_version": "1.2.0",
          "state": {
            "_model_module": "@jupyter-widgets/base",
            "_model_module_version": "1.2.0",
            "_model_name": "LayoutModel",
            "_view_count": null,
            "_view_module": "@jupyter-widgets/base",
            "_view_module_version": "1.2.0",
            "_view_name": "LayoutView",
            "align_content": null,
            "align_items": null,
            "align_self": null,
            "border": null,
            "bottom": null,
            "display": null,
            "flex": null,
            "flex_flow": null,
            "grid_area": null,
            "grid_auto_columns": null,
            "grid_auto_flow": null,
            "grid_auto_rows": null,
            "grid_column": null,
            "grid_gap": null,
            "grid_row": null,
            "grid_template_areas": null,
            "grid_template_columns": null,
            "grid_template_rows": null,
            "height": null,
            "justify_content": null,
            "justify_items": null,
            "left": null,
            "margin": null,
            "max_height": null,
            "max_width": null,
            "min_height": null,
            "min_width": null,
            "object_fit": null,
            "object_position": null,
            "order": null,
            "overflow": null,
            "overflow_x": null,
            "overflow_y": null,
            "padding": null,
            "right": null,
            "top": null,
            "visibility": null,
            "width": null
          }
        },
        "e0d148ac87fb490ba346629124e30447": {
          "model_module": "@jupyter-widgets/controls",
          "model_name": "DescriptionStyleModel",
          "model_module_version": "1.5.0",
          "state": {
            "_model_module": "@jupyter-widgets/controls",
            "_model_module_version": "1.5.0",
            "_model_name": "DescriptionStyleModel",
            "_view_count": null,
            "_view_module": "@jupyter-widgets/base",
            "_view_module_version": "1.2.0",
            "_view_name": "StyleView",
            "description_width": ""
          }
        },
        "788745debea44da1bb5c160c426a5ebd": {
          "model_module": "@jupyter-widgets/controls",
          "model_name": "HBoxModel",
          "model_module_version": "1.5.0",
          "state": {
            "_dom_classes": [],
            "_model_module": "@jupyter-widgets/controls",
            "_model_module_version": "1.5.0",
            "_model_name": "HBoxModel",
            "_view_count": null,
            "_view_module": "@jupyter-widgets/controls",
            "_view_module_version": "1.5.0",
            "_view_name": "HBoxView",
            "box_style": "",
            "children": [
              "IPY_MODEL_bb7bca2f92b248f8b5540499c0f013c9",
              "IPY_MODEL_1c4dc1e74f404d468a4f8efd51e15b0a",
              "IPY_MODEL_e4eaa0ada9374f8b9d8621307567b306"
            ],
            "layout": "IPY_MODEL_5cb3ebb5e4f44451aa40a29909be50ac"
          }
        },
        "bb7bca2f92b248f8b5540499c0f013c9": {
          "model_module": "@jupyter-widgets/controls",
          "model_name": "HTMLModel",
          "model_module_version": "1.5.0",
          "state": {
            "_dom_classes": [],
            "_model_module": "@jupyter-widgets/controls",
            "_model_module_version": "1.5.0",
            "_model_name": "HTMLModel",
            "_view_count": null,
            "_view_module": "@jupyter-widgets/controls",
            "_view_module_version": "1.5.0",
            "_view_name": "HTMLView",
            "description": "",
            "description_tooltip": null,
            "layout": "IPY_MODEL_2e71105a0cae424798d0f98b865e1c8c",
            "placeholder": "​",
            "style": "IPY_MODEL_01bd4f2b745b45dfbb7fbb4142ca3449",
            "value": "100%"
          }
        },
        "1c4dc1e74f404d468a4f8efd51e15b0a": {
          "model_module": "@jupyter-widgets/controls",
          "model_name": "FloatProgressModel",
          "model_module_version": "1.5.0",
          "state": {
            "_dom_classes": [],
            "_model_module": "@jupyter-widgets/controls",
            "_model_module_version": "1.5.0",
            "_model_name": "FloatProgressModel",
            "_view_count": null,
            "_view_module": "@jupyter-widgets/controls",
            "_view_module_version": "1.5.0",
            "_view_name": "ProgressView",
            "bar_style": "success",
            "description": "",
            "description_tooltip": null,
            "layout": "IPY_MODEL_5ad72fbdb1104671a04791ec2cb1717f",
            "max": 46830571,
            "min": 0,
            "orientation": "horizontal",
            "style": "IPY_MODEL_69920ae6f85041e08c47cefa0ef78331",
            "value": 46830571
          }
        },
        "e4eaa0ada9374f8b9d8621307567b306": {
          "model_module": "@jupyter-widgets/controls",
          "model_name": "HTMLModel",
          "model_module_version": "1.5.0",
          "state": {
            "_dom_classes": [],
            "_model_module": "@jupyter-widgets/controls",
            "_model_module_version": "1.5.0",
            "_model_name": "HTMLModel",
            "_view_count": null,
            "_view_module": "@jupyter-widgets/controls",
            "_view_module_version": "1.5.0",
            "_view_name": "HTMLView",
            "description": "",
            "description_tooltip": null,
            "layout": "IPY_MODEL_32a15e5e56d348308fcb6cdc94b39eff",
            "placeholder": "​",
            "style": "IPY_MODEL_74c47580973f411a815ff698a00690aa",
            "value": " 44.7M/44.7M [00:00&lt;00:00, 186MB/s]"
          }
        },
        "5cb3ebb5e4f44451aa40a29909be50ac": {
          "model_module": "@jupyter-widgets/base",
          "model_name": "LayoutModel",
          "model_module_version": "1.2.0",
          "state": {
            "_model_module": "@jupyter-widgets/base",
            "_model_module_version": "1.2.0",
            "_model_name": "LayoutModel",
            "_view_count": null,
            "_view_module": "@jupyter-widgets/base",
            "_view_module_version": "1.2.0",
            "_view_name": "LayoutView",
            "align_content": null,
            "align_items": null,
            "align_self": null,
            "border": null,
            "bottom": null,
            "display": null,
            "flex": null,
            "flex_flow": null,
            "grid_area": null,
            "grid_auto_columns": null,
            "grid_auto_flow": null,
            "grid_auto_rows": null,
            "grid_column": null,
            "grid_gap": null,
            "grid_row": null,
            "grid_template_areas": null,
            "grid_template_columns": null,
            "grid_template_rows": null,
            "height": null,
            "justify_content": null,
            "justify_items": null,
            "left": null,
            "margin": null,
            "max_height": null,
            "max_width": null,
            "min_height": null,
            "min_width": null,
            "object_fit": null,
            "object_position": null,
            "order": null,
            "overflow": null,
            "overflow_x": null,
            "overflow_y": null,
            "padding": null,
            "right": null,
            "top": null,
            "visibility": null,
            "width": null
          }
        },
        "2e71105a0cae424798d0f98b865e1c8c": {
          "model_module": "@jupyter-widgets/base",
          "model_name": "LayoutModel",
          "model_module_version": "1.2.0",
          "state": {
            "_model_module": "@jupyter-widgets/base",
            "_model_module_version": "1.2.0",
            "_model_name": "LayoutModel",
            "_view_count": null,
            "_view_module": "@jupyter-widgets/base",
            "_view_module_version": "1.2.0",
            "_view_name": "LayoutView",
            "align_content": null,
            "align_items": null,
            "align_self": null,
            "border": null,
            "bottom": null,
            "display": null,
            "flex": null,
            "flex_flow": null,
            "grid_area": null,
            "grid_auto_columns": null,
            "grid_auto_flow": null,
            "grid_auto_rows": null,
            "grid_column": null,
            "grid_gap": null,
            "grid_row": null,
            "grid_template_areas": null,
            "grid_template_columns": null,
            "grid_template_rows": null,
            "height": null,
            "justify_content": null,
            "justify_items": null,
            "left": null,
            "margin": null,
            "max_height": null,
            "max_width": null,
            "min_height": null,
            "min_width": null,
            "object_fit": null,
            "object_position": null,
            "order": null,
            "overflow": null,
            "overflow_x": null,
            "overflow_y": null,
            "padding": null,
            "right": null,
            "top": null,
            "visibility": null,
            "width": null
          }
        },
        "01bd4f2b745b45dfbb7fbb4142ca3449": {
          "model_module": "@jupyter-widgets/controls",
          "model_name": "DescriptionStyleModel",
          "model_module_version": "1.5.0",
          "state": {
            "_model_module": "@jupyter-widgets/controls",
            "_model_module_version": "1.5.0",
            "_model_name": "DescriptionStyleModel",
            "_view_count": null,
            "_view_module": "@jupyter-widgets/base",
            "_view_module_version": "1.2.0",
            "_view_name": "StyleView",
            "description_width": ""
          }
        },
        "5ad72fbdb1104671a04791ec2cb1717f": {
          "model_module": "@jupyter-widgets/base",
          "model_name": "LayoutModel",
          "model_module_version": "1.2.0",
          "state": {
            "_model_module": "@jupyter-widgets/base",
            "_model_module_version": "1.2.0",
            "_model_name": "LayoutModel",
            "_view_count": null,
            "_view_module": "@jupyter-widgets/base",
            "_view_module_version": "1.2.0",
            "_view_name": "LayoutView",
            "align_content": null,
            "align_items": null,
            "align_self": null,
            "border": null,
            "bottom": null,
            "display": null,
            "flex": null,
            "flex_flow": null,
            "grid_area": null,
            "grid_auto_columns": null,
            "grid_auto_flow": null,
            "grid_auto_rows": null,
            "grid_column": null,
            "grid_gap": null,
            "grid_row": null,
            "grid_template_areas": null,
            "grid_template_columns": null,
            "grid_template_rows": null,
            "height": null,
            "justify_content": null,
            "justify_items": null,
            "left": null,
            "margin": null,
            "max_height": null,
            "max_width": null,
            "min_height": null,
            "min_width": null,
            "object_fit": null,
            "object_position": null,
            "order": null,
            "overflow": null,
            "overflow_x": null,
            "overflow_y": null,
            "padding": null,
            "right": null,
            "top": null,
            "visibility": null,
            "width": null
          }
        },
        "69920ae6f85041e08c47cefa0ef78331": {
          "model_module": "@jupyter-widgets/controls",
          "model_name": "ProgressStyleModel",
          "model_module_version": "1.5.0",
          "state": {
            "_model_module": "@jupyter-widgets/controls",
            "_model_module_version": "1.5.0",
            "_model_name": "ProgressStyleModel",
            "_view_count": null,
            "_view_module": "@jupyter-widgets/base",
            "_view_module_version": "1.2.0",
            "_view_name": "StyleView",
            "bar_color": null,
            "description_width": ""
          }
        },
        "32a15e5e56d348308fcb6cdc94b39eff": {
          "model_module": "@jupyter-widgets/base",
          "model_name": "LayoutModel",
          "model_module_version": "1.2.0",
          "state": {
            "_model_module": "@jupyter-widgets/base",
            "_model_module_version": "1.2.0",
            "_model_name": "LayoutModel",
            "_view_count": null,
            "_view_module": "@jupyter-widgets/base",
            "_view_module_version": "1.2.0",
            "_view_name": "LayoutView",
            "align_content": null,
            "align_items": null,
            "align_self": null,
            "border": null,
            "bottom": null,
            "display": null,
            "flex": null,
            "flex_flow": null,
            "grid_area": null,
            "grid_auto_columns": null,
            "grid_auto_flow": null,
            "grid_auto_rows": null,
            "grid_column": null,
            "grid_gap": null,
            "grid_row": null,
            "grid_template_areas": null,
            "grid_template_columns": null,
            "grid_template_rows": null,
            "height": null,
            "justify_content": null,
            "justify_items": null,
            "left": null,
            "margin": null,
            "max_height": null,
            "max_width": null,
            "min_height": null,
            "min_width": null,
            "object_fit": null,
            "object_position": null,
            "order": null,
            "overflow": null,
            "overflow_x": null,
            "overflow_y": null,
            "padding": null,
            "right": null,
            "top": null,
            "visibility": null,
            "width": null
          }
        },
        "74c47580973f411a815ff698a00690aa": {
          "model_module": "@jupyter-widgets/controls",
          "model_name": "DescriptionStyleModel",
          "model_module_version": "1.5.0",
          "state": {
            "_model_module": "@jupyter-widgets/controls",
            "_model_module_version": "1.5.0",
            "_model_name": "DescriptionStyleModel",
            "_view_count": null,
            "_view_module": "@jupyter-widgets/base",
            "_view_module_version": "1.2.0",
            "_view_name": "StyleView",
            "description_width": ""
          }
        }
      }
    }
  },
  "cells": [
    {
      "cell_type": "markdown",
      "source": [
        "https://github.com/XanaduAI/quantum-transfer-learning/blob/master/c2q_transfer_learning_cifar.ipynb"
      ],
      "metadata": {
        "id": "OAkmuxPvUvwz"
      }
    },
    {
      "cell_type": "code",
      "source": [
        "# install the latest released version of PennyLane\n",
        "!pip install pennylane --upgrade"
      ],
      "metadata": {
        "colab": {
          "base_uri": "https://localhost:8080/"
        },
        "id": "33R6MV-sU86l",
        "outputId": "ec235845-41cc-4931-effe-15e83ec9232b"
      },
      "execution_count": null,
      "outputs": [
        {
          "output_type": "stream",
          "name": "stdout",
          "text": [
            "Looking in indexes: https://pypi.org/simple, https://us-python.pkg.dev/colab-wheels/public/simple/\n",
            "Collecting pennylane\n",
            "  Downloading PennyLane-0.28.0-py3-none-any.whl (1.3 MB)\n",
            "\u001b[K     |████████████████████████████████| 1.3 MB 4.8 MB/s \n",
            "\u001b[?25hRequirement already satisfied: cachetools in /usr/local/lib/python3.8/dist-packages (from pennylane) (5.2.0)\n",
            "Collecting retworkx\n",
            "  Downloading retworkx-0.12.1-py3-none-any.whl (10 kB)\n",
            "Collecting pennylane-lightning>=0.28\n",
            "  Downloading PennyLane_Lightning-0.28.0-cp38-cp38-manylinux_2_17_x86_64.manylinux2014_x86_64.whl (15.3 MB)\n",
            "\u001b[K     |████████████████████████████████| 15.3 MB 93.7 MB/s \n",
            "\u001b[?25hRequirement already satisfied: numpy<1.24 in /usr/local/lib/python3.8/dist-packages (from pennylane) (1.21.6)\n",
            "Requirement already satisfied: toml in /usr/local/lib/python3.8/dist-packages (from pennylane) (0.10.2)\n",
            "Requirement already satisfied: appdirs in /usr/local/lib/python3.8/dist-packages (from pennylane) (1.4.4)\n",
            "Requirement already satisfied: scipy in /usr/local/lib/python3.8/dist-packages (from pennylane) (1.7.3)\n",
            "Collecting autoray>=0.3.1\n",
            "  Downloading autoray-0.5.3-py3-none-any.whl (39 kB)\n",
            "Requirement already satisfied: autograd in /usr/local/lib/python3.8/dist-packages (from pennylane) (1.5)\n",
            "Requirement already satisfied: networkx in /usr/local/lib/python3.8/dist-packages (from pennylane) (2.8.8)\n",
            "Requirement already satisfied: requests in /usr/local/lib/python3.8/dist-packages (from pennylane) (2.23.0)\n",
            "Collecting semantic-version>=2.7\n",
            "  Downloading semantic_version-2.10.0-py2.py3-none-any.whl (15 kB)\n",
            "Collecting ninja\n",
            "  Downloading ninja-1.11.1-py2.py3-none-manylinux_2_12_x86_64.manylinux2010_x86_64.whl (145 kB)\n",
            "\u001b[K     |████████████████████████████████| 145 kB 89.9 MB/s \n",
            "\u001b[?25hRequirement already satisfied: future>=0.15.2 in /usr/local/lib/python3.8/dist-packages (from autograd->pennylane) (0.16.0)\n",
            "Requirement already satisfied: certifi>=2017.4.17 in /usr/local/lib/python3.8/dist-packages (from requests->pennylane) (2022.12.7)\n",
            "Requirement already satisfied: chardet<4,>=3.0.2 in /usr/local/lib/python3.8/dist-packages (from requests->pennylane) (3.0.4)\n",
            "Requirement already satisfied: urllib3!=1.25.0,!=1.25.1,<1.26,>=1.21.1 in /usr/local/lib/python3.8/dist-packages (from requests->pennylane) (1.24.3)\n",
            "Requirement already satisfied: idna<3,>=2.5 in /usr/local/lib/python3.8/dist-packages (from requests->pennylane) (2.10)\n",
            "Collecting rustworkx==0.12.1\n",
            "  Downloading rustworkx-0.12.1-cp38-cp38-manylinux_2_17_x86_64.manylinux2014_x86_64.whl (1.9 MB)\n",
            "\u001b[K     |████████████████████████████████| 1.9 MB 81.1 MB/s \n",
            "\u001b[?25hInstalling collected packages: rustworkx, ninja, semantic-version, retworkx, pennylane-lightning, autoray, pennylane\n",
            "Successfully installed autoray-0.5.3 ninja-1.11.1 pennylane-0.28.0 pennylane-lightning-0.28.0 retworkx-0.12.1 rustworkx-0.12.1 semantic-version-2.10.0\n"
          ]
        }
      ]
    },
    {
      "cell_type": "code",
      "source": [
        "# Select one or more quantum frameworks above to install the PennyLane plugins.\n",
        "!pip install pennylane-lightning pennylane-lightning[gpu] pennylane-sf pennylane-qiskit pennylane-cirq"
      ],
      "metadata": {
        "colab": {
          "base_uri": "https://localhost:8080/"
        },
        "id": "7HIivGUaVKo9",
        "outputId": "c9e2dbd0-d153-4443-8430-cc3225ef245c"
      },
      "execution_count": null,
      "outputs": [
        {
          "output_type": "stream",
          "name": "stdout",
          "text": [
            "Looking in indexes: https://pypi.org/simple, https://us-python.pkg.dev/colab-wheels/public/simple/\n",
            "Requirement already satisfied: pennylane-lightning in /usr/local/lib/python3.8/dist-packages (0.28.0)\n",
            "Collecting pennylane-sf\n",
            "  Downloading PennyLane_SF-0.20.1-py3-none-any.whl (29 kB)\n",
            "Collecting pennylane-qiskit\n",
            "  Downloading PennyLane_qiskit-0.28.0-py3-none-any.whl (34 kB)\n",
            "Collecting pennylane-cirq\n",
            "  Downloading PennyLane_Cirq-0.28.0-py3-none-any.whl (22 kB)\n",
            "Requirement already satisfied: numpy in /usr/local/lib/python3.8/dist-packages (from pennylane-lightning) (1.21.6)\n",
            "Requirement already satisfied: ninja in /usr/local/lib/python3.8/dist-packages (from pennylane-lightning) (1.11.1)\n",
            "Requirement already satisfied: pennylane>=0.19 in /usr/local/lib/python3.8/dist-packages (from pennylane-lightning) (0.28.0)\n",
            "Requirement already satisfied: cachetools in /usr/local/lib/python3.8/dist-packages (from pennylane>=0.19->pennylane-lightning) (5.2.0)\n",
            "Requirement already satisfied: autograd in /usr/local/lib/python3.8/dist-packages (from pennylane>=0.19->pennylane-lightning) (1.5)\n",
            "Requirement already satisfied: networkx in /usr/local/lib/python3.8/dist-packages (from pennylane>=0.19->pennylane-lightning) (2.8.8)\n",
            "Requirement already satisfied: toml in /usr/local/lib/python3.8/dist-packages (from pennylane>=0.19->pennylane-lightning) (0.10.2)\n",
            "Requirement already satisfied: scipy in /usr/local/lib/python3.8/dist-packages (from pennylane>=0.19->pennylane-lightning) (1.7.3)\n",
            "Requirement already satisfied: autoray>=0.3.1 in /usr/local/lib/python3.8/dist-packages (from pennylane>=0.19->pennylane-lightning) (0.5.3)\n",
            "Requirement already satisfied: requests in /usr/local/lib/python3.8/dist-packages (from pennylane>=0.19->pennylane-lightning) (2.23.0)\n",
            "Requirement already satisfied: semantic-version>=2.7 in /usr/local/lib/python3.8/dist-packages (from pennylane>=0.19->pennylane-lightning) (2.10.0)\n",
            "Requirement already satisfied: retworkx in /usr/local/lib/python3.8/dist-packages (from pennylane>=0.19->pennylane-lightning) (0.12.1)\n",
            "Requirement already satisfied: appdirs in /usr/local/lib/python3.8/dist-packages (from pennylane>=0.19->pennylane-lightning) (1.4.4)\n",
            "Collecting strawberryfields>=0.22\n",
            "  Downloading StrawberryFields-0.23.0-py3-none-any.whl (4.9 MB)\n",
            "\u001b[K     |████████████████████████████████| 4.9 MB 8.3 MB/s \n",
            "\u001b[?25hCollecting urllib3>=1.25.3\n",
            "  Downloading urllib3-1.26.13-py2.py3-none-any.whl (140 kB)\n",
            "\u001b[K     |████████████████████████████████| 140 kB 89.9 MB/s \n",
            "\u001b[?25hCollecting quantum-blackbird>=0.3.0\n",
            "  Downloading quantum_blackbird-0.5.0-py3-none-any.whl (48 kB)\n",
            "\u001b[K     |████████████████████████████████| 48 kB 6.7 MB/s \n",
            "\u001b[?25hCollecting quantum-xir>=0.1.1\n",
            "  Downloading quantum_xir-0.2.1-py3-none-any.whl (27 kB)\n",
            "Requirement already satisfied: python-dateutil>=2.8.0 in /usr/local/lib/python3.8/dist-packages (from strawberryfields>=0.22->pennylane-sf) (2.8.2)\n",
            "Requirement already satisfied: sympy>=1.5 in /usr/local/lib/python3.8/dist-packages (from strawberryfields>=0.22->pennylane-sf) (1.7.1)\n",
            "Collecting xanadu-cloud-client>=0.2.1\n",
            "  Downloading xanadu_cloud_client-0.3.0-py3-none-any.whl (25 kB)\n",
            "Requirement already satisfied: numba in /usr/local/lib/python3.8/dist-packages (from strawberryfields>=0.22->pennylane-sf) (0.56.4)\n",
            "Collecting thewalrus>=0.18.0\n",
            "  Downloading thewalrus-0.19.0-py3-none-any.whl (83 kB)\n",
            "\u001b[K     |████████████████████████████████| 83 kB 2.9 MB/s \n",
            "\u001b[?25hRequirement already satisfied: six>=1.5 in /usr/local/lib/python3.8/dist-packages (from python-dateutil>=2.8.0->strawberryfields>=0.22->pennylane-sf) (1.15.0)\n",
            "Collecting antlr4-python3-runtime==4.9.2\n",
            "  Downloading antlr4-python3-runtime-4.9.2.tar.gz (117 kB)\n",
            "\u001b[K     |████████████████████████████████| 117 kB 92.0 MB/s \n",
            "\u001b[?25hCollecting lark-parser>=0.11.0\n",
            "  Downloading lark_parser-0.12.0-py2.py3-none-any.whl (103 kB)\n",
            "\u001b[K     |████████████████████████████████| 103 kB 85.2 MB/s \n",
            "\u001b[?25hRequirement already satisfied: chardet<4,>=3.0.2 in /usr/local/lib/python3.8/dist-packages (from requests->pennylane>=0.19->pennylane-lightning) (3.0.4)\n",
            "Requirement already satisfied: idna<3,>=2.5 in /usr/local/lib/python3.8/dist-packages (from requests->pennylane>=0.19->pennylane-lightning) (2.10)\n",
            "Collecting urllib3>=1.25.3\n",
            "  Downloading urllib3-1.25.11-py2.py3-none-any.whl (127 kB)\n",
            "\u001b[K     |████████████████████████████████| 127 kB 93.2 MB/s \n",
            "\u001b[?25hRequirement already satisfied: certifi>=2017.4.17 in /usr/local/lib/python3.8/dist-packages (from requests->pennylane>=0.19->pennylane-lightning) (2022.12.7)\n",
            "Requirement already satisfied: mpmath>=0.19 in /usr/local/lib/python3.8/dist-packages (from sympy>=1.5->strawberryfields>=0.22->pennylane-sf) (1.2.1)\n",
            "Requirement already satisfied: dask[delayed] in /usr/local/lib/python3.8/dist-packages (from thewalrus>=0.18.0->strawberryfields>=0.22->pennylane-sf) (2022.2.1)\n",
            "Requirement already satisfied: setuptools in /usr/local/lib/python3.8/dist-packages (from numba->strawberryfields>=0.22->pennylane-sf) (57.4.0)\n",
            "Requirement already satisfied: llvmlite<0.40,>=0.39.0dev0 in /usr/local/lib/python3.8/dist-packages (from numba->strawberryfields>=0.22->pennylane-sf) (0.39.1)\n",
            "Requirement already satisfied: importlib-metadata in /usr/local/lib/python3.8/dist-packages (from numba->strawberryfields>=0.22->pennylane-sf) (5.1.0)\n",
            "Collecting fire\n",
            "  Downloading fire-0.5.0.tar.gz (88 kB)\n",
            "\u001b[K     |████████████████████████████████| 88 kB 10.1 MB/s \n",
            "\u001b[?25hRequirement already satisfied: pydantic[dotenv] in /usr/local/lib/python3.8/dist-packages (from xanadu-cloud-client>=0.2.1->strawberryfields>=0.22->pennylane-sf) (1.10.2)\n",
            "Collecting mthree>=0.17\n",
            "  Downloading mthree-1.1.0-cp38-cp38-manylinux_2_17_x86_64.manylinux2014_x86_64.whl (3.4 MB)\n",
            "\u001b[K     |████████████████████████████████| 3.4 MB 64.4 MB/s \n",
            "\u001b[?25hCollecting qiskit>=0.32\n",
            "  Downloading qiskit-0.39.4.tar.gz (13 kB)\n",
            "Requirement already satisfied: cython>=0.29 in /usr/local/lib/python3.8/dist-packages (from mthree>=0.17->pennylane-qiskit) (0.29.32)\n",
            "Collecting orjson>=3.0.0\n",
            "  Downloading orjson-3.8.3-cp38-cp38-manylinux_2_17_x86_64.manylinux2014_x86_64.whl (278 kB)\n",
            "\u001b[K     |████████████████████████████████| 278 kB 87.4 MB/s \n",
            "\u001b[?25hRequirement already satisfied: psutil in /usr/local/lib/python3.8/dist-packages (from mthree>=0.17->pennylane-qiskit) (5.4.8)\n",
            "Collecting qiskit-terra>=0.21\n",
            "  Downloading qiskit_terra-0.22.3-cp38-cp38-manylinux_2_17_x86_64.manylinux2014_x86_64.whl (4.8 MB)\n",
            "\u001b[K     |████████████████████████████████| 4.8 MB 74.8 MB/s \n",
            "\u001b[?25hCollecting qiskit-ibmq-provider>=0.19.2\n",
            "  Downloading qiskit_ibmq_provider-0.19.2-py3-none-any.whl (240 kB)\n",
            "\u001b[K     |████████████████████████████████| 240 kB 89.5 MB/s \n",
            "\u001b[?25hCollecting qiskit-aer==0.11.2\n",
            "  Downloading qiskit_aer-0.11.2-cp38-cp38-manylinux_2_17_x86_64.manylinux2014_x86_64.whl (12.8 MB)\n",
            "\u001b[K     |████████████████████████████████| 12.8 MB 85.1 MB/s \n",
            "\u001b[?25hCollecting requests-ntlm>=1.1.0\n",
            "  Downloading requests_ntlm-1.1.0-py2.py3-none-any.whl (5.7 kB)\n",
            "Collecting websockets>=10.0\n",
            "  Downloading websockets-10.4-cp38-cp38-manylinux_2_5_x86_64.manylinux1_x86_64.manylinux_2_17_x86_64.manylinux2014_x86_64.whl (106 kB)\n",
            "\u001b[K     |████████████████████████████████| 106 kB 93.7 MB/s \n",
            "\u001b[?25hCollecting websocket-client>=1.0.1\n",
            "  Downloading websocket_client-1.4.2-py3-none-any.whl (55 kB)\n",
            "\u001b[K     |████████████████████████████████| 55 kB 4.8 MB/s \n",
            "\u001b[?25hCollecting symengine>=0.9\n",
            "  Downloading symengine-0.9.2-cp38-cp38-manylinux2010_x86_64.whl (37.5 MB)\n",
            "\u001b[K     |████████████████████████████████| 37.5 MB 1.2 MB/s \n",
            "\u001b[?25hCollecting ply>=3.10\n",
            "  Downloading ply-3.11-py2.py3-none-any.whl (49 kB)\n",
            "\u001b[K     |████████████████████████████████| 49 kB 7.6 MB/s \n",
            "\u001b[?25hRequirement already satisfied: dill>=0.3 in /usr/local/lib/python3.8/dist-packages (from qiskit-terra>=0.21->mthree>=0.17->pennylane-qiskit) (0.3.6)\n",
            "Collecting stevedore>=3.0.0\n",
            "  Downloading stevedore-4.1.1-py3-none-any.whl (50 kB)\n",
            "\u001b[K     |████████████████████████████████| 50 kB 8.5 MB/s \n",
            "\u001b[?25hCollecting tweedledum<2.0,>=1.1\n",
            "  Downloading tweedledum-1.1.1-cp38-cp38-manylinux_2_12_x86_64.manylinux2010_x86_64.whl (929 kB)\n",
            "\u001b[K     |████████████████████████████████| 929 kB 92.6 MB/s \n",
            "\u001b[?25hCollecting ntlm-auth>=1.0.2\n",
            "  Downloading ntlm_auth-1.5.0-py2.py3-none-any.whl (29 kB)\n",
            "Collecting cryptography>=1.3\n",
            "  Downloading cryptography-38.0.4-cp36-abi3-manylinux_2_24_x86_64.whl (4.0 MB)\n",
            "\u001b[K     |████████████████████████████████| 4.0 MB 87.8 MB/s \n",
            "\u001b[?25hRequirement already satisfied: cffi>=1.12 in /usr/local/lib/python3.8/dist-packages (from cryptography>=1.3->requests-ntlm>=1.1.0->qiskit-ibmq-provider>=0.19.2->mthree>=0.17->pennylane-qiskit) (1.15.1)\n",
            "Requirement already satisfied: pycparser in /usr/local/lib/python3.8/dist-packages (from cffi>=1.12->cryptography>=1.3->requests-ntlm>=1.1.0->qiskit-ibmq-provider>=0.19.2->mthree>=0.17->pennylane-qiskit) (2.21)\n",
            "Requirement already satisfied: rustworkx==0.12.1 in /usr/local/lib/python3.8/dist-packages (from retworkx->pennylane>=0.19->pennylane-lightning) (0.12.1)\n",
            "Collecting pbr!=2.1.0,>=2.0.0\n",
            "  Downloading pbr-5.11.0-py2.py3-none-any.whl (112 kB)\n",
            "\u001b[K     |████████████████████████████████| 112 kB 81.2 MB/s \n",
            "\u001b[?25hCollecting cirq-pasqal>=0.10\n",
            "  Downloading cirq_pasqal-1.1.0-py3-none-any.whl (31 kB)\n",
            "Collecting cirq-core>=0.10\n",
            "  Downloading cirq_core-1.1.0-py3-none-any.whl (1.8 MB)\n",
            "\u001b[K     |████████████████████████████████| 1.8 MB 96.7 MB/s \n",
            "\u001b[?25hCollecting duet~=0.2.7\n",
            "  Downloading duet-0.2.7-py3-none-any.whl (28 kB)\n",
            "Requirement already satisfied: sortedcontainers~=2.0 in /usr/local/lib/python3.8/dist-packages (from cirq-core>=0.10->pennylane-cirq) (2.4.0)\n",
            "Requirement already satisfied: typing-extensions in /usr/local/lib/python3.8/dist-packages (from cirq-core>=0.10->pennylane-cirq) (4.4.0)\n",
            "Requirement already satisfied: pandas in /usr/local/lib/python3.8/dist-packages (from cirq-core>=0.10->pennylane-cirq) (1.3.5)\n",
            "Requirement already satisfied: matplotlib~=3.0 in /usr/local/lib/python3.8/dist-packages (from cirq-core>=0.10->pennylane-cirq) (3.2.2)\n",
            "Requirement already satisfied: tqdm in /usr/local/lib/python3.8/dist-packages (from cirq-core>=0.10->pennylane-cirq) (4.64.1)\n",
            "Requirement already satisfied: cycler>=0.10 in /usr/local/lib/python3.8/dist-packages (from matplotlib~=3.0->cirq-core>=0.10->pennylane-cirq) (0.11.0)\n",
            "Requirement already satisfied: kiwisolver>=1.0.1 in /usr/local/lib/python3.8/dist-packages (from matplotlib~=3.0->cirq-core>=0.10->pennylane-cirq) (1.4.4)\n",
            "Requirement already satisfied: pyparsing!=2.0.4,!=2.1.2,!=2.1.6,>=2.0.1 in /usr/local/lib/python3.8/dist-packages (from matplotlib~=3.0->cirq-core>=0.10->pennylane-cirq) (3.0.9)\n",
            "Requirement already satisfied: future>=0.15.2 in /usr/local/lib/python3.8/dist-packages (from autograd->pennylane>=0.19->pennylane-lightning) (0.16.0)\n",
            "Requirement already satisfied: partd>=0.3.10 in /usr/local/lib/python3.8/dist-packages (from dask[delayed]->thewalrus>=0.18.0->strawberryfields>=0.22->pennylane-sf) (1.3.0)\n",
            "Requirement already satisfied: cloudpickle>=1.1.1 in /usr/local/lib/python3.8/dist-packages (from dask[delayed]->thewalrus>=0.18.0->strawberryfields>=0.22->pennylane-sf) (1.5.0)\n",
            "Requirement already satisfied: pyyaml>=5.3.1 in /usr/local/lib/python3.8/dist-packages (from dask[delayed]->thewalrus>=0.18.0->strawberryfields>=0.22->pennylane-sf) (6.0)\n",
            "Requirement already satisfied: packaging>=20.0 in /usr/local/lib/python3.8/dist-packages (from dask[delayed]->thewalrus>=0.18.0->strawberryfields>=0.22->pennylane-sf) (21.3)\n",
            "Requirement already satisfied: toolz>=0.8.2 in /usr/local/lib/python3.8/dist-packages (from dask[delayed]->thewalrus>=0.18.0->strawberryfields>=0.22->pennylane-sf) (0.12.0)\n",
            "Requirement already satisfied: fsspec>=0.6.0 in /usr/local/lib/python3.8/dist-packages (from dask[delayed]->thewalrus>=0.18.0->strawberryfields>=0.22->pennylane-sf) (2022.11.0)\n",
            "Requirement already satisfied: locket in /usr/local/lib/python3.8/dist-packages (from partd>=0.3.10->dask[delayed]->thewalrus>=0.18.0->strawberryfields>=0.22->pennylane-sf) (1.0.0)\n",
            "Requirement already satisfied: termcolor in /usr/local/lib/python3.8/dist-packages (from fire->xanadu-cloud-client>=0.2.1->strawberryfields>=0.22->pennylane-sf) (2.1.1)\n",
            "Requirement already satisfied: zipp>=0.5 in /usr/local/lib/python3.8/dist-packages (from importlib-metadata->numba->strawberryfields>=0.22->pennylane-sf) (3.11.0)\n",
            "Requirement already satisfied: pytz>=2017.3 in /usr/local/lib/python3.8/dist-packages (from pandas->cirq-core>=0.10->pennylane-cirq) (2022.6)\n",
            "Collecting pennylane-lightning-gpu\n",
            "  Downloading PennyLane_Lightning_GPU-0.28.0-cp38-cp38-manylinux_2_17_x86_64.manylinux2014_x86_64.whl (25.3 MB)\n",
            "\u001b[K     |████████████████████████████████| 25.3 MB 2.3 MB/s \n",
            "\u001b[?25hRequirement already satisfied: cmake in /usr/local/lib/python3.8/dist-packages (from pennylane-lightning-gpu->pennylane-lightning) (3.22.6)\n",
            "Requirement already satisfied: wheel in /usr/local/lib/python3.8/dist-packages (from pennylane-lightning-gpu->pennylane-lightning) (0.38.4)\n",
            "Collecting python-dotenv>=0.10.4\n",
            "  Downloading python_dotenv-0.21.0-py3-none-any.whl (18 kB)\n",
            "Building wheels for collected packages: antlr4-python3-runtime, qiskit, fire\n",
            "  Building wheel for antlr4-python3-runtime (setup.py) ... \u001b[?25l\u001b[?25hdone\n",
            "  Created wheel for antlr4-python3-runtime: filename=antlr4_python3_runtime-4.9.2-py3-none-any.whl size=144567 sha256=a467caba3ec0da0288a4b7ff4010b1511bdc59b464e18d5a75b8cf3f4e325c09\n",
            "  Stored in directory: /root/.cache/pip/wheels/3f/3a/15/1b8a6bb658d20ac44131971882d45f496f13ac14a8c5830e20\n",
            "  Building wheel for qiskit (setup.py) ... \u001b[?25l\u001b[?25hdone\n",
            "  Created wheel for qiskit: filename=qiskit-0.39.4-py3-none-any.whl size=12274 sha256=3c9f122da9ae5dd913de2efdb4655710b129090521b8c0cca9601b8353007d07\n",
            "  Stored in directory: /root/.cache/pip/wheels/40/2c/d7/aa04e366b971ddf815dba1250b024c248e7851ee208dd0e990\n",
            "  Building wheel for fire (setup.py) ... \u001b[?25l\u001b[?25hdone\n",
            "  Created wheel for fire: filename=fire-0.5.0-py2.py3-none-any.whl size=116949 sha256=ed18eb5b7e84cec803c462d74eb32c28d287e06017d448f9bf374f174dd68dec\n",
            "  Stored in directory: /root/.cache/pip/wheels/5b/eb/43/7295e71293b218ddfd627f935229bf54af9018add7fbb5aac6\n",
            "Successfully built antlr4-python3-runtime qiskit fire\n",
            "Installing collected packages: urllib3, pbr, tweedledum, symengine, stevedore, python-dotenv, ply, ntlm-auth, cryptography, websockets, websocket-client, requests-ntlm, qiskit-terra, lark-parser, fire, duet, antlr4-python3-runtime, xanadu-cloud-client, thewalrus, quantum-xir, quantum-blackbird, qiskit-ibmq-provider, qiskit-aer, orjson, cirq-core, strawberryfields, qiskit, pennylane-lightning-gpu, mthree, cirq-pasqal, pennylane-sf, pennylane-qiskit, pennylane-cirq\n",
            "  Attempting uninstall: urllib3\n",
            "    Found existing installation: urllib3 1.24.3\n",
            "    Uninstalling urllib3-1.24.3:\n",
            "      Successfully uninstalled urllib3-1.24.3\n",
            "Successfully installed antlr4-python3-runtime-4.9.2 cirq-core-1.1.0 cirq-pasqal-1.1.0 cryptography-38.0.4 duet-0.2.7 fire-0.5.0 lark-parser-0.12.0 mthree-1.1.0 ntlm-auth-1.5.0 orjson-3.8.3 pbr-5.11.0 pennylane-cirq-0.28.0 pennylane-lightning-gpu-0.28.0 pennylane-qiskit-0.28.0 pennylane-sf-0.20.1 ply-3.11 python-dotenv-0.21.0 qiskit-0.39.4 qiskit-aer-0.11.2 qiskit-ibmq-provider-0.19.2 qiskit-terra-0.22.3 quantum-blackbird-0.5.0 quantum-xir-0.2.1 requests-ntlm-1.1.0 stevedore-4.1.1 strawberryfields-0.23.0 symengine-0.9.2 thewalrus-0.19.0 tweedledum-1.1.1 urllib3-1.25.11 websocket-client-1.4.2 websockets-10.4 xanadu-cloud-client-0.3.0\n"
          ]
        }
      ]
    },
    {
      "cell_type": "code",
      "source": [
        "# Select one or more ML libraries above to install them to work with PennyLane.\n",
        "# Visit https://pytorch.org/get-started/locally/ for instructions on installing PyTorch.\n",
        "!pip install autograd tensorflow jax jaxlib"
      ],
      "metadata": {
        "colab": {
          "base_uri": "https://localhost:8080/"
        },
        "id": "Z4a7LVc2VjJb",
        "outputId": "7bb70f6b-0ad6-45b7-a4df-c4cb08983194"
      },
      "execution_count": null,
      "outputs": [
        {
          "output_type": "stream",
          "name": "stdout",
          "text": [
            "Looking in indexes: https://pypi.org/simple, https://us-python.pkg.dev/colab-wheels/public/simple/\n",
            "Requirement already satisfied: autograd in /usr/local/lib/python3.8/dist-packages (1.5)\n",
            "Requirement already satisfied: tensorflow in /usr/local/lib/python3.8/dist-packages (2.9.2)\n",
            "Requirement already satisfied: jax in /usr/local/lib/python3.8/dist-packages (0.3.25)\n",
            "Requirement already satisfied: jaxlib in /usr/local/lib/python3.8/dist-packages (0.3.25+cuda11.cudnn805)\n",
            "Requirement already satisfied: numpy>=1.12 in /usr/local/lib/python3.8/dist-packages (from autograd) (1.21.6)\n",
            "Requirement already satisfied: future>=0.15.2 in /usr/local/lib/python3.8/dist-packages (from autograd) (0.16.0)\n",
            "Requirement already satisfied: six>=1.12.0 in /usr/local/lib/python3.8/dist-packages (from tensorflow) (1.15.0)\n",
            "Requirement already satisfied: grpcio<2.0,>=1.24.3 in /usr/local/lib/python3.8/dist-packages (from tensorflow) (1.51.1)\n",
            "Requirement already satisfied: gast<=0.4.0,>=0.2.1 in /usr/local/lib/python3.8/dist-packages (from tensorflow) (0.4.0)\n",
            "Requirement already satisfied: tensorflow-estimator<2.10.0,>=2.9.0rc0 in /usr/local/lib/python3.8/dist-packages (from tensorflow) (2.9.0)\n",
            "Requirement already satisfied: tensorflow-io-gcs-filesystem>=0.23.1 in /usr/local/lib/python3.8/dist-packages (from tensorflow) (0.28.0)\n",
            "Requirement already satisfied: opt-einsum>=2.3.2 in /usr/local/lib/python3.8/dist-packages (from tensorflow) (3.3.0)\n",
            "Requirement already satisfied: keras-preprocessing>=1.1.1 in /usr/local/lib/python3.8/dist-packages (from tensorflow) (1.1.2)\n",
            "Requirement already satisfied: typing-extensions>=3.6.6 in /usr/local/lib/python3.8/dist-packages (from tensorflow) (4.4.0)\n",
            "Requirement already satisfied: termcolor>=1.1.0 in /usr/local/lib/python3.8/dist-packages (from tensorflow) (2.1.1)\n",
            "Requirement already satisfied: libclang>=13.0.0 in /usr/local/lib/python3.8/dist-packages (from tensorflow) (14.0.6)\n",
            "Requirement already satisfied: flatbuffers<2,>=1.12 in /usr/local/lib/python3.8/dist-packages (from tensorflow) (1.12)\n",
            "Requirement already satisfied: setuptools in /usr/local/lib/python3.8/dist-packages (from tensorflow) (57.4.0)\n",
            "Requirement already satisfied: tensorboard<2.10,>=2.9 in /usr/local/lib/python3.8/dist-packages (from tensorflow) (2.9.1)\n",
            "Requirement already satisfied: google-pasta>=0.1.1 in /usr/local/lib/python3.8/dist-packages (from tensorflow) (0.2.0)\n",
            "Requirement already satisfied: absl-py>=1.0.0 in /usr/local/lib/python3.8/dist-packages (from tensorflow) (1.3.0)\n",
            "Requirement already satisfied: keras<2.10.0,>=2.9.0rc0 in /usr/local/lib/python3.8/dist-packages (from tensorflow) (2.9.0)\n",
            "Requirement already satisfied: protobuf<3.20,>=3.9.2 in /usr/local/lib/python3.8/dist-packages (from tensorflow) (3.19.6)\n",
            "Requirement already satisfied: h5py>=2.9.0 in /usr/local/lib/python3.8/dist-packages (from tensorflow) (3.1.0)\n",
            "Requirement already satisfied: wrapt>=1.11.0 in /usr/local/lib/python3.8/dist-packages (from tensorflow) (1.14.1)\n",
            "Requirement already satisfied: astunparse>=1.6.0 in /usr/local/lib/python3.8/dist-packages (from tensorflow) (1.6.3)\n",
            "Requirement already satisfied: packaging in /usr/local/lib/python3.8/dist-packages (from tensorflow) (21.3)\n",
            "Requirement already satisfied: wheel<1.0,>=0.23.0 in /usr/local/lib/python3.8/dist-packages (from astunparse>=1.6.0->tensorflow) (0.38.4)\n",
            "Requirement already satisfied: werkzeug>=1.0.1 in /usr/local/lib/python3.8/dist-packages (from tensorboard<2.10,>=2.9->tensorflow) (1.0.1)\n",
            "Requirement already satisfied: requests<3,>=2.21.0 in /usr/local/lib/python3.8/dist-packages (from tensorboard<2.10,>=2.9->tensorflow) (2.23.0)\n",
            "Requirement already satisfied: tensorboard-data-server<0.7.0,>=0.6.0 in /usr/local/lib/python3.8/dist-packages (from tensorboard<2.10,>=2.9->tensorflow) (0.6.1)\n",
            "Requirement already satisfied: tensorboard-plugin-wit>=1.6.0 in /usr/local/lib/python3.8/dist-packages (from tensorboard<2.10,>=2.9->tensorflow) (1.8.1)\n",
            "Requirement already satisfied: google-auth<3,>=1.6.3 in /usr/local/lib/python3.8/dist-packages (from tensorboard<2.10,>=2.9->tensorflow) (2.15.0)\n",
            "Requirement already satisfied: google-auth-oauthlib<0.5,>=0.4.1 in /usr/local/lib/python3.8/dist-packages (from tensorboard<2.10,>=2.9->tensorflow) (0.4.6)\n",
            "Requirement already satisfied: markdown>=2.6.8 in /usr/local/lib/python3.8/dist-packages (from tensorboard<2.10,>=2.9->tensorflow) (3.4.1)\n",
            "Requirement already satisfied: pyasn1-modules>=0.2.1 in /usr/local/lib/python3.8/dist-packages (from google-auth<3,>=1.6.3->tensorboard<2.10,>=2.9->tensorflow) (0.2.8)\n",
            "Requirement already satisfied: rsa<5,>=3.1.4 in /usr/local/lib/python3.8/dist-packages (from google-auth<3,>=1.6.3->tensorboard<2.10,>=2.9->tensorflow) (4.9)\n",
            "Requirement already satisfied: cachetools<6.0,>=2.0.0 in /usr/local/lib/python3.8/dist-packages (from google-auth<3,>=1.6.3->tensorboard<2.10,>=2.9->tensorflow) (5.2.0)\n",
            "Requirement already satisfied: requests-oauthlib>=0.7.0 in /usr/local/lib/python3.8/dist-packages (from google-auth-oauthlib<0.5,>=0.4.1->tensorboard<2.10,>=2.9->tensorflow) (1.3.1)\n",
            "Requirement already satisfied: importlib-metadata>=4.4 in /usr/local/lib/python3.8/dist-packages (from markdown>=2.6.8->tensorboard<2.10,>=2.9->tensorflow) (5.1.0)\n",
            "Requirement already satisfied: zipp>=0.5 in /usr/local/lib/python3.8/dist-packages (from importlib-metadata>=4.4->markdown>=2.6.8->tensorboard<2.10,>=2.9->tensorflow) (3.11.0)\n",
            "Requirement already satisfied: pyasn1<0.5.0,>=0.4.6 in /usr/local/lib/python3.8/dist-packages (from pyasn1-modules>=0.2.1->google-auth<3,>=1.6.3->tensorboard<2.10,>=2.9->tensorflow) (0.4.8)\n",
            "Requirement already satisfied: idna<3,>=2.5 in /usr/local/lib/python3.8/dist-packages (from requests<3,>=2.21.0->tensorboard<2.10,>=2.9->tensorflow) (2.10)\n",
            "Requirement already satisfied: chardet<4,>=3.0.2 in /usr/local/lib/python3.8/dist-packages (from requests<3,>=2.21.0->tensorboard<2.10,>=2.9->tensorflow) (3.0.4)\n",
            "Requirement already satisfied: certifi>=2017.4.17 in /usr/local/lib/python3.8/dist-packages (from requests<3,>=2.21.0->tensorboard<2.10,>=2.9->tensorflow) (2022.12.7)\n",
            "Requirement already satisfied: urllib3!=1.25.0,!=1.25.1,<1.26,>=1.21.1 in /usr/local/lib/python3.8/dist-packages (from requests<3,>=2.21.0->tensorboard<2.10,>=2.9->tensorflow) (1.25.11)\n",
            "Requirement already satisfied: oauthlib>=3.0.0 in /usr/local/lib/python3.8/dist-packages (from requests-oauthlib>=0.7.0->google-auth-oauthlib<0.5,>=0.4.1->tensorboard<2.10,>=2.9->tensorflow) (3.2.2)\n",
            "Requirement already satisfied: scipy>=1.5 in /usr/local/lib/python3.8/dist-packages (from jax) (1.7.3)\n",
            "Requirement already satisfied: pyparsing!=3.0.5,>=2.0.2 in /usr/local/lib/python3.8/dist-packages (from packaging->tensorflow) (3.0.9)\n"
          ]
        }
      ]
    },
    {
      "cell_type": "code",
      "execution_count": null,
      "metadata": {
        "colab": {
          "base_uri": "https://localhost:8080/"
        },
        "id": "dSZh6UvuUu2q",
        "outputId": "016af1d3-6bb3-41a6-8e0f-a19b0d4918e8"
      },
      "outputs": [
        {
          "output_type": "stream",
          "name": "stdout",
          "text": [
            "env: OMP_NUM_THREADS=1\n"
          ]
        }
      ],
      "source": [
        "# OpenMP: number of parallel threads.\n",
        "%env OMP_NUM_THREADS=1\n",
        "\n",
        "# Plotting\n",
        "%matplotlib inline\n",
        "import matplotlib.pyplot as plt\n",
        "\n",
        "# PyTorch\n",
        "import torch\n",
        "import torch.nn as nn\n",
        "import torch.optim as optim\n",
        "from torch.optim import lr_scheduler\n",
        "import torchvision\n",
        "from torchvision import datasets, models, transforms\n",
        "\n",
        "# Pennylane\n",
        "import pennylane as qml\n",
        "from pennylane import numpy as np\n",
        "\n",
        "# Other tools\n",
        "import time\n",
        "import copy"
      ]
    },
    {
      "cell_type": "code",
      "source": [
        "filtered_classes = ['cat', 'dog', 'frog', 'horse']  # Subset of CIFAR ('plane', 'car', 'bird', 'cat','deer', 'dog', 'frog', 'horse', 'ship', 'truck')\n",
        "n_qubits = 4                       # Number of qubits\n",
        "quantum = True                     # If set to \"False\", the dressed quantum circuit is replaced by \n",
        "                                   # An enterily classical net (defined by the next parameter). \n",
        "classical_model = '512_n'          # Possible choices: '512_n','512_nq_n','551_512_n'. [nq=n_qubits, n=num_filtered_classes]\n",
        "step = 0.001                       # Learning rate\n",
        "batch_size = 8                     # Number of samples for each training step\n",
        "num_epochs = 3                     # Number of training epochs\n",
        "q_depth = 5                        # Depth of the quantum circuit (number of variational layers)\n",
        "gamma_lr_scheduler = 1             # Learning rate reduction applied every 10 epochs.                       \n",
        "max_layers = 15                    # Keep 15 even if not all are used.\n",
        "q_delta = 0.01                     # Initial spread of random quantum weights\n",
        "rng_seed = 0                       # Seed for random number generator\n",
        "start_time = time.time()           # start of the computation timer"
      ],
      "metadata": {
        "id": "ufqOi0PvV01R"
      },
      "execution_count": null,
      "outputs": []
    },
    {
      "cell_type": "code",
      "source": [
        "dev = qml.device('default.qubit', wires=n_qubits)"
      ],
      "metadata": {
        "id": "hFGBBlOoV5Dt"
      },
      "execution_count": null,
      "outputs": []
    },
    {
      "cell_type": "code",
      "source": [
        "device = torch.device(\"cuda:0\" if torch.cuda.is_available() else \"cpu\")"
      ],
      "metadata": {
        "id": "xvIw1ZQcV8Qe"
      },
      "execution_count": null,
      "outputs": []
    },
    {
      "cell_type": "code",
      "source": [
        "# Fixed pre-processing operations\n",
        "data_transforms = {\n",
        "    'train': transforms.Compose([\n",
        "        #transforms.RandomResizedCrop(224),     # uncomment for data augmentation\n",
        "        #transforms.RandomHorizontalFlip(),     # uncomment for data augmentation\n",
        "        transforms.Resize(256),\n",
        "        transforms.CenterCrop(224),\n",
        "        transforms.ToTensor(),\n",
        "        # Normalize input channels using mean values and standard deviations of ImageNet.\n",
        "        transforms.Normalize([0.485, 0.456, 0.406], [0.229, 0.224, 0.225])\n",
        "    ]),\n",
        "    'val': transforms.Compose([\n",
        "        transforms.Resize(256),\n",
        "        transforms.CenterCrop(224),\n",
        "        transforms.ToTensor(),\n",
        "        transforms.Normalize([0.485, 0.456, 0.406], [0.229, 0.224, 0.225])\n",
        "    ]),\n",
        "}\n",
        "\n",
        "\n",
        "# =================== begin CIFAR dataset loading ===================\n",
        "trainset_full = torchvision.datasets.CIFAR10(root='./data', train=True,\n",
        "                                        download=True, transform=data_transforms['train'])\n",
        "testset_full = torchvision.datasets.CIFAR10(root='./data', train=False,\n",
        "                                       download=True, transform=data_transforms['val'])\n",
        "image_datasets_full={'train': trainset_full, 'val': testset_full}\n",
        "\n",
        "# CIFAR classes\n",
        "class_names = ('plane', 'car', 'bird', 'cat',\n",
        "           'deer', 'dog', 'frog', 'horse', 'ship', 'truck')\n",
        "\n",
        "# Get indices of samples associated to filtered_classes\n",
        "filtered_labels=[class_names.index(cl) for cl in filtered_classes]\n",
        "sub_indices={'train': [], 'val': []}\n",
        "for phase in ['train', 'val']:\n",
        "    for idx, label in enumerate(image_datasets_full[phase].targets):  \n",
        "        if label in filtered_labels:\n",
        "            sub_indices[phase].append(idx)\n",
        "            \n",
        "# Initialize sub-datasets according to filtered indices\n",
        "image_datasets = {x: torch.utils.data.Subset(image_datasets_full[x], sub_indices[x])\n",
        "                for x in ['train', 'val']}\n",
        "\n",
        "def labels_to_filtered(labels):\n",
        "    \"\"\"Maps CIFAR labels (0,1,2,3,4,5,6,7,8,9) to the index of filtered_labels\"\"\"\n",
        "    return [filtered_labels.index(label) for label in labels]\n",
        "# =================== end CIFAR dataset loading ==========================\n",
        "\n",
        "# Number of samples\n",
        "dataset_sizes = {x: len(image_datasets[x]) for x in ['train', 'val']}\n",
        "\n",
        "# Initialize dataloader\n",
        "dataloaders = {x: torch.utils.data.DataLoader(image_datasets[x], \n",
        "                  batch_size=batch_size, shuffle=True, num_workers=0) for x in ['train', 'val']}\n",
        "\n",
        "# Function to plot images from tensors\n",
        "def imshow(inp, title=None):\n",
        "    \"\"\"Imshow for Tensor.\"\"\"\n",
        "    inp = inp.numpy().transpose((1, 2, 0))\n",
        "    # We apply the inverse of the initial normalization operation.\n",
        "    mean = np.array([0.485, 0.456, 0.406])\n",
        "    std = np.array([0.229, 0.224, 0.225])\n",
        "    inp = std * inp + mean\n",
        "    inp = np.clip(inp, 0, 1)\n",
        "    plt.imshow(inp)\n",
        "    if title is not None:\n",
        "        plt.title(title)"
      ],
      "metadata": {
        "colab": {
          "base_uri": "https://localhost:8080/",
          "height": 101,
          "referenced_widgets": [
            "399161852fb34a29938d8b45a2e650bb",
            "5fed0efd4d82493ea4c02ab3bc908e8e",
            "acdf5a044c4f47b2994fa74c29f6bbea",
            "0877e32a08a249738aa3db83351dc8b4",
            "d833109dee604ba4bea85671b35fb6f9",
            "f9b70f408b544ba8aeba82c41daad274",
            "b880a9a93a7f47ab83c6c8efd38fb556",
            "35133f83aef64e75bf155315b875e6d1",
            "0e3cf820dee84b45a9359b748875f74e",
            "107047ea7176445997b612e162c57b2f",
            "e0d148ac87fb490ba346629124e30447"
          ]
        },
        "id": "IZypqMBuWE9W",
        "outputId": "51670403-3111-470a-a81f-1eda2092587f"
      },
      "execution_count": null,
      "outputs": [
        {
          "output_type": "stream",
          "name": "stdout",
          "text": [
            "Downloading https://www.cs.toronto.edu/~kriz/cifar-10-python.tar.gz to ./data/cifar-10-python.tar.gz\n"
          ]
        },
        {
          "output_type": "display_data",
          "data": {
            "text/plain": [
              "  0%|          | 0/170498071 [00:00<?, ?it/s]"
            ],
            "application/vnd.jupyter.widget-view+json": {
              "version_major": 2,
              "version_minor": 0,
              "model_id": "399161852fb34a29938d8b45a2e650bb"
            }
          },
          "metadata": {}
        },
        {
          "output_type": "stream",
          "name": "stdout",
          "text": [
            "Extracting ./data/cifar-10-python.tar.gz to ./data\n",
            "Files already downloaded and verified\n"
          ]
        }
      ]
    },
    {
      "cell_type": "code",
      "source": [
        "# Get a batch of training data\n",
        "inputs, classes = next(iter(dataloaders['val']))\n",
        "\n",
        "# Make a grid from batch\n",
        "out = torchvision.utils.make_grid(inputs)\n",
        "imshow(out, title=[class_names[x] for x in classes])"
      ],
      "metadata": {
        "colab": {
          "base_uri": "https://localhost:8080/",
          "height": 106
        },
        "id": "WOT79pBQax8Z",
        "outputId": "d9ba29d7-c16b-4c20-ad66-995271908705"
      },
      "execution_count": null,
      "outputs": [
        {
          "output_type": "display_data",
          "data": {
            "text/plain": [
              "<Figure size 432x288 with 1 Axes>"
            ],
            "image/png": "[encoded data removed]"
          },
          "metadata": {
            "needs_background": "light"
          }
        }
      ]
    },
    {
      "cell_type": "code",
      "source": [
        "torch.manual_seed(rng_seed)\n",
        "dataloaders = {x: torch.utils.data.DataLoader(image_datasets[x], \n",
        "                  batch_size=batch_size, shuffle=True, num_workers=0) for x in ['train', 'val']}"
      ],
      "metadata": {
        "id": "mLmoCe9Za4SE"
      },
      "execution_count": null,
      "outputs": []
    },
    {
      "cell_type": "code",
      "source": [
        "def H_layer(nqubits):\n",
        "    \"\"\"Layer of single-qubit Hadamard gates. \n",
        "    \"\"\"\n",
        "    for idx in range(nqubits):\n",
        "        qml.Hadamard(wires=idx)\n",
        "        \n",
        "def RY_layer(w):\n",
        "    \"\"\"Layer of parametrized qubit rotations around the y axis. \n",
        "    \"\"\"\n",
        "    for idx, element in enumerate(w):\n",
        "        qml.RY(element, wires=idx)\n",
        "\n",
        "def entangling_layer(nqubits):\n",
        "    \"\"\"Layer of CNOTs followed by another shifted layer of CNOT.\n",
        "    \"\"\"\n",
        "    # In other words it should apply something like :\n",
        "    # CNOT  CNOT  CNOT  CNOT...  CNOT\n",
        "    #   CNOT  CNOT  CNOT...  CNOT  \n",
        "    for i in range(0, nqubits - 1, 2): # Loop over even indices: i=0,2,...N-2  \n",
        "        qml.CNOT(wires=[i, i + 1])\n",
        "    for i in range(1, nqubits - 1,2): # Loop over odd indices:  i=1,3,...N-3\n",
        "        qml.CNOT(wires=[i, i + 1])"
      ],
      "metadata": {
        "id": "bGQuI0WCa7sr"
      },
      "execution_count": null,
      "outputs": []
    },
    {
      "cell_type": "code",
      "source": [
        "@qml.qnode(dev, interface='torch')\n",
        "def q_net(q_in, q_weights_flat):\n",
        "        \n",
        "        # Reshape weights\n",
        "        q_weights = q_weights_flat.reshape(max_layers, n_qubits)\n",
        "        \n",
        "        # Start from state |+> , unbiased w.r.t. |0> and |1>\n",
        "        H_layer(n_qubits)\n",
        "        \n",
        "        # Embed features in the quantum node\n",
        "        RY_layer(q_in)\n",
        "       \n",
        "        # Sequence of trainable variational layers\n",
        "        for k in range(q_depth):\n",
        "            entangling_layer(n_qubits)\n",
        "            RY_layer(q_weights[k+1])\n",
        "\n",
        "        # Expectation values in the Z basis\n",
        "        return [qml.expval(qml.PauliZ(j)) for j in range(n_qubits)]"
      ],
      "metadata": {
        "id": "D7IjOARca_IM"
      },
      "execution_count": null,
      "outputs": []
    },
    {
      "cell_type": "code",
      "source": [
        "class Quantumnet(nn.Module):\n",
        "        def __init__(self):\n",
        "            super().__init__()\n",
        "            self.pre_net = nn.Linear(512, n_qubits)\n",
        "            self.q_params = nn.Parameter(q_delta * torch.randn(max_layers * n_qubits))\n",
        "            self.post_net = nn.Linear(n_qubits, len(filtered_classes))\n",
        "\n",
        "        def forward(self, input_features):\n",
        "            pre_out = self.pre_net(input_features) \n",
        "            q_in = torch.tanh(pre_out) * np.pi / 2.0   \n",
        "            \n",
        "            # Apply the quantum circuit to each element of the batch, and append to q_out\n",
        "            q_out = torch.Tensor(0, n_qubits)\n",
        "            q_out = q_out.to(device)\n",
        "            for elem in q_in:\n",
        "                q_out_elem = q_net(elem,self.q_params).float().unsqueeze(0)\n",
        "                q_out = torch.cat((q_out, q_out_elem))\n",
        "            return self.post_net(q_out)"
      ],
      "metadata": {
        "id": "PIuFjLpZbCdP"
      },
      "execution_count": null,
      "outputs": []
    },
    {
      "cell_type": "code",
      "source": [
        "model_hybrid = torchvision.models.resnet18(pretrained=True)\n",
        "\n",
        "for param in model_hybrid.parameters():\n",
        "    param.requires_grad = False\n",
        "\n",
        "if quantum:\n",
        "    model_hybrid.fc = Quantumnet()\n",
        "\n",
        "elif classical_model == '512_n':\n",
        "    model_hybrid.fc = nn.Linear(512,len(filtered_classes))\n",
        "\n",
        "elif classical_model == '512_nq_n':\n",
        "    model_hybrid.fc = nn.Sequential(nn.Linear(512, n_qubits),torch.nn.ReLU(),nn.Linear(n_qubits, len(filtered_classes))) \n",
        "\n",
        "elif classical_model == '551_512_n':\n",
        "    model_hybrid.fc = nn.Sequential(nn.Linear(512, 512), torch.nn.ReLU(), nn.Linear(512, len(filtered_classes)))\n",
        "\n",
        "# Use CUDA or CPU according to the \"device\" object.\n",
        "model_hybrid = model_hybrid.to(device)"
      ],
      "metadata": {
        "colab": {
          "base_uri": "https://localhost:8080/",
          "height": 156,
          "referenced_widgets": [
            "788745debea44da1bb5c160c426a5ebd",
            "bb7bca2f92b248f8b5540499c0f013c9",
            "1c4dc1e74f404d468a4f8efd51e15b0a",
            "e4eaa0ada9374f8b9d8621307567b306",
            "5cb3ebb5e4f44451aa40a29909be50ac",
            "2e71105a0cae424798d0f98b865e1c8c",
            "01bd4f2b745b45dfbb7fbb4142ca3449",
            "5ad72fbdb1104671a04791ec2cb1717f",
            "69920ae6f85041e08c47cefa0ef78331",
            "32a15e5e56d348308fcb6cdc94b39eff",
            "74c47580973f411a815ff698a00690aa"
          ]
        },
        "id": "vGD5W6FAbfbZ",
        "outputId": "f05397fb-4f7b-4768-ff0c-61a53a13c4f9"
      },
      "execution_count": null,
      "outputs": [
        {
          "output_type": "stream",
          "name": "stderr",
          "text": [
            "/usr/local/lib/python3.8/dist-packages/torchvision/models/_utils.py:208: UserWarning: The parameter 'pretrained' is deprecated since 0.13 and may be removed in the future, please use 'weights' instead.\n",
            "  warnings.warn(\n",
            "/usr/local/lib/python3.8/dist-packages/torchvision/models/_utils.py:223: UserWarning: Arguments other than a weight enum or `None` for 'weights' are deprecated since 0.13 and may be removed in the future. The current behavior is equivalent to passing `weights=ResNet18_Weights.IMAGENET1K_V1`. You can also use `weights=ResNet18_Weights.DEFAULT` to get the most up-to-date weights.\n",
            "  warnings.warn(msg)\n",
            "Downloading: \"https://download.pytorch.org/models/resnet18-f37072fd.pth\" to /root/.cache/torch/hub/checkpoints/resnet18-f37072fd.pth\n"
          ]
        },
        {
          "output_type": "display_data",
          "data": {
            "text/plain": [
              "  0%|          | 0.00/44.7M [00:00<?, ?B/s]"
            ],
            "application/vnd.jupyter.widget-view+json": {
              "version_major": 2,
              "version_minor": 0,
              "model_id": "788745debea44da1bb5c160c426a5ebd"
            }
          },
          "metadata": {}
        }
      ]
    },
    {
      "cell_type": "code",
      "source": [
        "criterion = nn.CrossEntropyLoss()"
      ],
      "metadata": {
        "id": "on1g5Uz_bikD"
      },
      "execution_count": null,
      "outputs": []
    },
    {
      "cell_type": "code",
      "source": [
        "optimizer_hybrid = optim.Adam(model_hybrid.fc.parameters(), lr=step)"
      ],
      "metadata": {
        "id": "RDZHDWwxblXj"
      },
      "execution_count": null,
      "outputs": []
    },
    {
      "cell_type": "code",
      "source": [
        "exp_lr_scheduler = lr_scheduler.StepLR(optimizer_hybrid, step_size=3, gamma=gamma_lr_scheduler)"
      ],
      "metadata": {
        "id": "hnWTfqO2boJ0"
      },
      "execution_count": null,
      "outputs": []
    },
    {
      "cell_type": "code",
      "source": [
        "def train_model(model, criterion, optimizer, scheduler, num_epochs):\n",
        "        since = time.time()\n",
        "        best_model_wts = copy.deepcopy(model.state_dict())\n",
        "        best_acc = 0.0\n",
        "        best_loss = 10000.0   # Large arbitrary number\n",
        "        best_acc_train = 0.0\n",
        "        best_loss_train = 10000.0  # Large arbitrary number\n",
        "        print('Training started:')\n",
        "        for epoch in range(num_epochs):\n",
        "            \n",
        "            # Each epoch has a training and validation phase\n",
        "            for phase in ['train', 'val']:\n",
        "                if phase == 'train':\n",
        "                    # Set model to training mode\n",
        "                    # scheduler.step()\n",
        "                    model.train() \n",
        "                    scheduler.step()\n",
        "                else:\n",
        "                    # Set model to evaluate mode\n",
        "                    model.eval()   \n",
        "                \n",
        "                # Iteration loop\n",
        "                running_loss = 0.0\n",
        "                running_corrects = 0\n",
        "                n_batches = dataset_sizes[phase] // batch_size\n",
        "                it = 0\n",
        "                for inputs, cifar_labels in dataloaders[phase]:\n",
        "                    since_batch = time.time()\n",
        "                    batch_size_ = len(inputs)\n",
        "                    inputs = inputs.to(device)\n",
        "                    labels = torch.tensor(labels_to_filtered(cifar_labels))\n",
        "                    labels = labels.to(device)\n",
        "                    optimizer.zero_grad()\n",
        "                    \n",
        "                    # Track/compute gradient and make an optimization step only when training\n",
        "                    with torch.set_grad_enabled(phase == 'train'):\n",
        "                        outputs = model(inputs)\n",
        "                        _, preds = torch.max(outputs, 1)\n",
        "                        loss = criterion(outputs, labels)\n",
        "                        if phase == 'train':\n",
        "                            loss.requires_grad = True\n",
        "                            loss.backward()\n",
        "                            optimizer.step()\n",
        "                            \n",
        "                    # Print iteration results\n",
        "                    running_loss += loss.item() * batch_size_\n",
        "                    batch_corrects = torch.sum(preds == labels.data).item()\n",
        "                    running_corrects += batch_corrects\n",
        "                    print('Phase: {} Epoch: {}/{} Iter: {}/{} Batch time: {:.4f}'.format(phase, epoch + 1, num_epochs, it + 1, n_batches + 1, time.time() - since_batch), end='\\r', flush=True)\n",
        "                    it += 1\n",
        "                \n",
        "                # Print epoch results\n",
        "                epoch_loss = running_loss / dataset_sizes[phase]\n",
        "                epoch_acc = running_corrects / dataset_sizes[phase]\n",
        "                print('Phase: {} Epoch: {}/{} Loss: {:.4f} Acc: {:.4f}             '.format('train' if phase == 'train' else 'val  ', epoch + 1, num_epochs, epoch_loss, epoch_acc))\n",
        "                \n",
        "                # Check if this is the best model wrt previous epochs\n",
        "                if phase == 'val' and epoch_acc > best_acc:\n",
        "                    best_acc = epoch_acc\n",
        "                    best_model_wts = copy.deepcopy(model.state_dict())\n",
        "                if phase == 'val' and epoch_loss < best_loss:\n",
        "                    best_loss = epoch_loss\n",
        "                if phase == 'train' and epoch_acc > best_acc_train:\n",
        "                    best_acc_train = epoch_acc\n",
        "                if phase == 'train' and epoch_loss < best_loss_train:\n",
        "                    best_loss_train = epoch_loss\n",
        "        \n",
        "        # Print final results             \n",
        "        model.load_state_dict(best_model_wts)\n",
        "        time_elapsed = time.time() - since\n",
        "        print('Training completed in {:.0f}m {:.0f}s'.format(time_elapsed // 60, time_elapsed % 60))\n",
        "        print('Best test loss: {:.4f} | Best test accuracy: {:.4f}'.format(best_loss, best_acc))\n",
        "        return model"
      ],
      "metadata": {
        "id": "TTGyNWWRbttn"
      },
      "execution_count": null,
      "outputs": []
    },
    {
      "cell_type": "code",
      "source": [
        "model_hybrid = train_model(model_hybrid, criterion, optimizer_hybrid, exp_lr_scheduler, num_epochs=num_epochs)"
      ],
      "metadata": {
        "colab": {
          "base_uri": "https://localhost:8080/"
        },
        "id": "pq4nomMbbwti",
        "outputId": "3a7583e6-5cda-4b05-f0b5-5c00ab19f860"
      },
      "execution_count": null,
      "outputs": [
        {
          "output_type": "stream",
          "name": "stdout",
          "text": [
            "Training started:\n",
            "Phase: train Epoch: 1/3 Loss: 1.1347 Acc: 0.4773             \n",
            "Phase: val   Epoch: 1/3 Loss: 1.0969 Acc: 0.5005             \n",
            "Phase: train Epoch: 2/3 Loss: 1.1391 Acc: 0.4731             \n",
            "Phase: val   Epoch: 2/3 Loss: 1.0979 Acc: 0.5015             \n",
            "Phase: train Epoch: 3/3 Loss: 1.1341 Acc: 0.4768             \n",
            "Phase: val   Epoch: 3/3 Loss: 1.0768 Acc: 0.5020             \n",
            "Training completed in 42m 1s\n",
            "Best test loss: 1.0768 | Best test accuracy: 0.5020\n"
          ]
        }
      ]
    },
    {
      "cell_type": "code",
      "source": [
        "if quantum:\n",
        "        torch.save(model_hybrid.state_dict(), \n",
        "            'quantum_' + filtered_classes[0] + '_' + filtered_classes[1] + '.pt'\n",
        "        )\n",
        "else:\n",
        "        torch.save(model_hybrid.state_dict(), \n",
        "            'classical_' + filtered_classes[0] + '_' + filtered_classes[1] + '.pt'\n",
        "        )\n",
        "print(\"Model state_dict saved.\")"
      ],
      "metadata": {
        "colab": {
          "base_uri": "https://localhost:8080/"
        },
        "id": "43fkjyzes6iw",
        "outputId": "e7cac4f6-189f-4d99-cb2d-0ce3baf7a439"
      },
      "execution_count": null,
      "outputs": [
        {
          "output_type": "stream",
          "name": "stdout",
          "text": [
            "Model state_dict saved.\n"
          ]
        }
      ]
    },
    {
      "cell_type": "code",
      "source": [
        "if quantum:\n",
        "    model_hybrid.load_state_dict(torch.load(\n",
        "        'quantum_' + filtered_classes[0] + '_' + filtered_classes[1] + '.pt'\n",
        "        )\n",
        "    )\n",
        "                                 \n",
        "else:\n",
        "    model_hybrid.load_state_dict(torch.load(\n",
        "        'classical_' + filtered_classes[0] + '_' + filtered_classes[1] + '.pt'\n",
        "        )\n",
        "    )"
      ],
      "metadata": {
        "id": "uxoKoDDvs9xC"
      },
      "execution_count": null,
      "outputs": []
    },
    {
      "cell_type": "code",
      "source": [
        "criterion = nn.CrossEntropyLoss()\n",
        "running_loss = 0.0\n",
        "running_corrects = 0\n",
        "n_batches = dataset_sizes['val'] // batch_size\n",
        "it = 0\n",
        "model_hybrid.eval()\n",
        "\n",
        "# Testing loop\n",
        "for inputs, cifar_labels in dataloaders['val']:\n",
        "    inputs = inputs.to(device)\n",
        "    labels = torch.tensor(labels_to_filtered(cifar_labels))\n",
        "    labels = labels.to(device)\n",
        "    batch_size_ = len(inputs)\n",
        "    with torch.set_grad_enabled(False):\n",
        "        outputs = model_hybrid(inputs)\n",
        "        _, preds = torch.max(outputs, 1)\n",
        "        loss = criterion(outputs, labels)\n",
        "    running_loss += loss.item() * batch_size_\n",
        "    batch_corrects = torch.sum(preds == labels.data).item()\n",
        "    running_corrects += batch_corrects\n",
        "    print('Iter: {}/{}'.format(it+1,n_batches+1), end='\\r', flush=True)\n",
        "    it += 1\n",
        "                    \n",
        "# Print final results\n",
        "epoch_loss = running_loss / dataset_sizes['val']\n",
        "epoch_acc = running_corrects / dataset_sizes['val']\n",
        "print('\\nTest Loss: {:.4f} Test Acc: {:.4f}        '.format(epoch_loss, epoch_acc))"
      ],
      "metadata": {
        "colab": {
          "base_uri": "https://localhost:8080/"
        },
        "id": "gDsRiCo2tCpt",
        "outputId": "67b1688f-0a9d-47ce-c7df-cbffed085094"
      },
      "execution_count": null,
      "outputs": [
        {
          "output_type": "stream",
          "name": "stdout",
          "text": [
            "\n",
            "Test Loss: 1.0768 Test Acc: 0.5020        \n"
          ]
        }
      ]
    },
    {
      "cell_type": "code",
      "source": [
        "def visualize_model(model, num_images=6, fig_name='Predictions'):\n",
        "    images_so_far = 0\n",
        "    fig = plt.figure(fig_name)\n",
        "    model.eval()\n",
        "    with torch.no_grad():\n",
        "        for i, (inputs, cifar_labels) in enumerate(dataloaders['val']):\n",
        "            inputs = inputs.to(device)\n",
        "            labels = torch.tensor(labels_to_filtered(cifar_labels))\n",
        "            labels = labels.to(device)\n",
        "            outputs = model(inputs)\n",
        "            _, preds = torch.max(outputs, 1)\n",
        "            for j in range(inputs.size()[0]):\n",
        "                images_so_far += 1\n",
        "                ax = plt.subplot(num_images // 2, 3, images_so_far)\n",
        "                ax.axis('off')\n",
        "                ax.set_title('[{}]'.format(filtered_classes[preds[j]]))\n",
        "                imshow(inputs.cpu().data[j])\n",
        "                if images_so_far == num_images:\n",
        "                    return\n",
        "        \n",
        "visualize_model(model_hybrid, num_images=10)"
      ],
      "metadata": {
        "colab": {
          "base_uri": "https://localhost:8080/",
          "height": 219
        },
        "id": "IMwKZSIctImY",
        "outputId": "b8b8e307-d187-4faa-ce6d-a76fe12dac8c"
      },
      "execution_count": null,
      "outputs": [
        {
          "output_type": "display_data",
          "data": {
            "text/plain": [
              "<Figure size 432x288 with 10 Axes>"
            ],
            "image/png": "[encoded data removed]"
          },
          "metadata": {
            "needs_background": "light"
          }
        }
      ]
    }
  ]
}